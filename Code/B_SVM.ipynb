{
 "cells": [
  {
   "cell_type": "markdown",
   "metadata": {},
   "source": [
    "# Train SVM"
   ]
  },
  {
   "cell_type": "code",
   "execution_count": 1,
   "metadata": {},
   "outputs": [],
   "source": [
    "import cv2\n",
    "import numpy as np\n",
    "import pickle as pkl\n",
    "import matplotlib.pyplot as plt\n",
    "\n",
    "from sklearn import svm, metrics\n",
    "from sklearn.model_selection import GridSearchCV\n",
    "from sklearn.metrics import classification_report\n"
   ]
  },
  {
   "cell_type": "markdown",
   "metadata": {},
   "source": [
    "### 1) Load Data"
   ]
  },
  {
   "cell_type": "code",
   "execution_count": 2,
   "metadata": {},
   "outputs": [],
   "source": [
    "# load SIFT data\n",
    "with open('../CW_Dataset/SIFT/hist_array_train.pkl', 'rb') as f:\n",
    "    X_train = pkl.load(f)\n",
    "\n",
    "with open('../CW_Dataset/SIFT/hist_array_test.pkl', 'rb') as f:\n",
    "    X_test = pkl.load(f)\n",
    "\n",
    "with open('../CW_Dataset/SIFT/hist_label_train.pkl', 'rb') as f:\n",
    "    y_train = pkl.load(f)\n",
    "\n",
    "with open('../CW_Dataset/SIFT/hist_label_test.pkl', 'rb') as f:\n",
    "    y_test = pkl.load(f)\n"
   ]
  },
  {
   "cell_type": "markdown",
   "metadata": {},
   "source": [
    "### 2) Gridsearch for SVM"
   ]
  },
  {
   "cell_type": "code",
   "execution_count": 4,
   "metadata": {},
   "outputs": [
    {
     "name": "stdout",
     "output_type": "stream",
     "text": [
      "Fitting 5 folds for each of 15 candidates, totalling 75 fits\n",
      "Best parameters: {'C': 1000, 'gamma': 0.1}\n"
     ]
    }
   ],
   "source": [
    "# create SVM classifier with stratified gridsearch\n",
    "param_grid = {\n",
    "    'C': [1, 10, 1000, 10000, 100000],\n",
    "    'gamma': [1, 0.1, 0.01, 0.001]\n",
    "    }\n",
    "\n",
    "# fit stratified gridsearch\n",
    "grid = GridSearchCV(svm.SVC(), param_grid, cv=5, scoring='f1_micro', verbose=1, n_jobs=-1)\n",
    "grid.fit(X_train, y_train)\n",
    "\n",
    "# print best parameters\n",
    "print('Best parameters: {}'.format(grid.best_params_))"
   ]
  },
  {
   "cell_type": "code",
   "execution_count": 11,
   "metadata": {},
   "outputs": [
    {
     "data": {
      "text/plain": [
       "SVC(C=1000, gamma=0.1)"
      ]
     },
     "execution_count": 11,
     "metadata": {},
     "output_type": "execute_result"
    }
   ],
   "source": [
    "# # retrain model with best parameters\n",
    "clf = svm.SVC(C=grid.best_params_['C'], gamma=grid.best_params_['gamma'])\n",
    "clf.fit(X_train, y_train)"
   ]
  },
  {
   "cell_type": "code",
   "execution_count": 12,
   "metadata": {},
   "outputs": [],
   "source": [
    "# save best model\n",
    "with open('../Models/sift-svm.pkl', 'wb') as f:\n",
    "    pkl.dump(grid.best_estimator_, f)"
   ]
  },
  {
   "cell_type": "markdown",
   "metadata": {},
   "source": [
    "### 3) Test SVM"
   ]
  },
  {
   "cell_type": "code",
   "execution_count": 13,
   "metadata": {},
   "outputs": [],
   "source": [
    "# load best model\n",
    "with open('../Models/sift-svm.pkl', 'rb') as f:\n",
    "    clf = pkl.load(f)"
   ]
  },
  {
   "cell_type": "code",
   "execution_count": 14,
   "metadata": {},
   "outputs": [
    {
     "name": "stdout",
     "output_type": "stream",
     "text": [
      "              precision    recall  f1-score   support\n",
      "\n",
      "           1       0.44      0.02      0.04       329\n",
      "           2       0.00      0.00      0.00        74\n",
      "           3       0.00      0.00      0.00       160\n",
      "           4       0.41      0.93      0.57      1185\n",
      "           5       0.00      0.00      0.00       478\n",
      "           6       0.00      0.00      0.00       162\n",
      "           7       0.37      0.19      0.25       680\n",
      "\n",
      "    accuracy                           0.40      3068\n",
      "   macro avg       0.17      0.16      0.12      3068\n",
      "weighted avg       0.29      0.40      0.28      3068\n",
      "\n"
     ]
    },
    {
     "name": "stderr",
     "output_type": "stream",
     "text": [
      "c:\\Users\\sdien\\Anaconda3\\envs\\NC\\lib\\site-packages\\sklearn\\metrics\\_classification.py:1318: UndefinedMetricWarning: Precision and F-score are ill-defined and being set to 0.0 in labels with no predicted samples. Use `zero_division` parameter to control this behavior.\n",
      "  _warn_prf(average, modifier, msg_start, len(result))\n",
      "c:\\Users\\sdien\\Anaconda3\\envs\\NC\\lib\\site-packages\\sklearn\\metrics\\_classification.py:1318: UndefinedMetricWarning: Precision and F-score are ill-defined and being set to 0.0 in labels with no predicted samples. Use `zero_division` parameter to control this behavior.\n",
      "  _warn_prf(average, modifier, msg_start, len(result))\n",
      "c:\\Users\\sdien\\Anaconda3\\envs\\NC\\lib\\site-packages\\sklearn\\metrics\\_classification.py:1318: UndefinedMetricWarning: Precision and F-score are ill-defined and being set to 0.0 in labels with no predicted samples. Use `zero_division` parameter to control this behavior.\n",
      "  _warn_prf(average, modifier, msg_start, len(result))\n"
     ]
    }
   ],
   "source": [
    "# evaluate model\n",
    "y_pred = clf.predict(X_test)\n",
    "print(classification_report(y_test, y_pred))"
   ]
  },
  {
   "cell_type": "code",
   "execution_count": 15,
   "metadata": {},
   "outputs": [
    {
     "name": "stdout",
     "output_type": "stream",
     "text": [
      "Confusion matrix: \n",
      "[[   7    0    0  291    0    0   31]\n",
      " [   0    0    0   68    0    0    6]\n",
      " [   1    0    0  134    0    0   25]\n",
      " [   4    0    0 1102    0    0   79]\n",
      " [   0    0    0  411    0    0   67]\n",
      " [   0    0    0  144    0    0   18]\n",
      " [   4    0    0  545    0    0  131]]\n"
     ]
    }
   ],
   "source": [
    "# create confusion matrix\n",
    "confusion_matrix = metrics.confusion_matrix(y_test, y_pred)\n",
    "print('Confusion matrix: \\n{}'.format(confusion_matrix))\n"
   ]
  },
  {
   "cell_type": "code",
   "execution_count": null,
   "metadata": {},
   "outputs": [],
   "source": []
  }
 ],
 "metadata": {
  "interpreter": {
   "hash": "3d4042eb24c5fceb6f1fcd19d2c9af68e804a6c05b318e9dae7bac44519e7c43"
  },
  "kernelspec": {
   "display_name": "Python 3.9.7 ('NC')",
   "language": "python",
   "name": "python3"
  },
  "language_info": {
   "codemirror_mode": {
    "name": "ipython",
    "version": 3
   },
   "file_extension": ".py",
   "mimetype": "text/x-python",
   "name": "python",
   "nbconvert_exporter": "python",
   "pygments_lexer": "ipython3",
   "version": "3.9.7"
  },
  "orig_nbformat": 4
 },
 "nbformat": 4,
 "nbformat_minor": 2
}
