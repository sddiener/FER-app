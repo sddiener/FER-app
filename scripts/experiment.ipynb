{
 "cells": [
  {
   "cell_type": "code",
   "execution_count": 2,
   "metadata": {},
   "outputs": [
    {
     "name": "stderr",
     "output_type": "stream",
     "text": [
      "c:\\ProgramData\\Anaconda3\\envs\\fer\\lib\\site-packages\\tqdm\\auto.py:22: TqdmWarning: IProgress not found. Please update jupyter and ipywidgets. See https://ipywidgets.readthedocs.io/en/stable/user_install.html\n",
      "  from .autonotebook import tqdm as notebook_tqdm\n"
     ]
    }
   ],
   "source": [
    "import numpy as np\n",
    "from src import lib"
   ]
  },
  {
   "cell_type": "code",
   "execution_count": 3,
   "metadata": {},
   "outputs": [],
   "source": [
    "label_dict = lib.LABEL_DICT \n",
    "predictions = np.array([1.0414301e-02, 8.4241066e-05, 4.3294334e-01, 7.0685565e-02, 4.8587248e-01,\n",
    "                     3.4644345e-09, 7.1476869e-09, 1.7760273e-08, 3.4392336e-08], dtype='float32')"
   ]
  },
  {
   "cell_type": "code",
   "execution_count": 5,
   "metadata": {},
   "outputs": [],
   "source": [
    "emotions_dict = {label_dict[i]: probability for i, probability in enumerate(predictions)}\n",
    "# Sort the dictionary by value (probability) in descending order\n",
    "sorted_emotions = sorted(emotions_dict.items(), key=lambda x: x[1], reverse=True)"
   ]
  },
  {
   "cell_type": "code",
   "execution_count": 6,
   "metadata": {},
   "outputs": [
    {
     "data": {
      "text/plain": [
       "[('surprise', 0.43294334),\n",
       " ('sadness', 0.070685565),\n",
       " ('neutral', 0.010414301),\n",
       " ('happiness', 8.4241066e-05),\n",
       " ('fear', 3.4392336e-08),\n",
       " ('disgust', 1.7760273e-08),\n",
       " ('anger', 7.147687e-09)]"
      ]
     },
     "execution_count": 6,
     "metadata": {},
     "output_type": "execute_result"
    }
   ],
   "source": [
    "sorted_emotions"
   ]
  },
  {
   "cell_type": "code",
   "execution_count": 13,
   "metadata": {},
   "outputs": [],
   "source": [
    "uploaded_file = lib.DEFAULT_PREDICTION_ARGS[\"image_path\"]\n",
    "image = lib.load_image(uploaded_file)\n",
    "model = lib.load_model(lib.LATEST_CHECKPOINT_PATH, device='cpu')"
   ]
  },
  {
   "cell_type": "code",
   "execution_count": 15,
   "metadata": {},
   "outputs": [],
   "source": [
    "prediction = np.array([0.988, 0, 0.0101, 0.0016, 0.0003, 0, 0, 0, 0], dtype='float32')"
   ]
  },
  {
   "cell_type": "code",
   "execution_count": 17,
   "metadata": {},
   "outputs": [
    {
     "data": {
      "text/plain": [
       "\"{'happiness': 'surprise', 'surprise': 'sadness', 'neutral': 'neutral'}\""
      ]
     },
     "execution_count": 17,
     "metadata": {},
     "output_type": "execute_result"
    }
   ],
   "source": [
    "prediction = lib.get_top_n_emotions(prediction, n=3)\n",
    "str(prediction)"
   ]
  }
 ],
 "metadata": {
  "kernelspec": {
   "display_name": "fer",
   "language": "python",
   "name": "python3"
  },
  "language_info": {
   "codemirror_mode": {
    "name": "ipython",
    "version": 3
   },
   "file_extension": ".py",
   "mimetype": "text/x-python",
   "name": "python",
   "nbconvert_exporter": "python",
   "pygments_lexer": "ipython3",
   "version": "3.10.9"
  },
  "orig_nbformat": 4,
  "vscode": {
   "interpreter": {
    "hash": "f77961612acb5d081fd2373e515848ecc70065f5f997e07d4c2817dc8deb7852"
   }
  }
 },
 "nbformat": 4,
 "nbformat_minor": 2
}
