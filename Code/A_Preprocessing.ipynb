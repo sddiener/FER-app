{
  "cells": [
    {
      "cell_type": "markdown",
      "metadata": {
        "colab_type": "text",
        "id": "view-in-github"
      },
      "source": [
        "<a href=\"https://colab.research.google.com/github/sddiener/Computer_Vision/blob/main/Preprocessing.ipynb\" target=\"_parent\"><img src=\"https://colab.research.google.com/assets/colab-badge.svg\" alt=\"Open In Colab\"/></a>"
      ]
    },
    {
      "cell_type": "markdown",
      "metadata": {
        "id": "8fUjRU4XMjs4"
      },
      "source": [
        "## 0) Colab Setup"
      ]
    },
    {
      "cell_type": "code",
      "execution_count": 1,
      "metadata": {},
      "outputs": [],
      "source": [
        "# !pip install opencv-python==4.5.5.64"
      ]
    },
    {
      "cell_type": "code",
      "execution_count": 2,
      "metadata": {
        "colab": {
          "base_uri": "https://localhost:8080/"
        },
        "id": "F3FIfdffd9gb",
        "outputId": "3ae99982-2fe6-46c7-fdff-f85ea070c97c"
      },
      "outputs": [],
      "source": [
        "# import os\n",
        "# from google.colab import drive\n",
        "# drive.mount('/content/drive')\n",
        "\n",
        "# GOOGLE_DRIVE_PATH_AFTER_MYDRIVE = 'CW_Folder_PG/'\n",
        "# GOOGLE_DRIVE_PATH = os.path.join('drive', 'My Drive', GOOGLE_DRIVE_PATH_AFTER_MYDRIVE)\n",
        "# print(os.listdir(GOOGLE_DRIVE_PATH))\n",
        "# print(os.listdir(GOOGLE_DRIVE_PATH + 'CW_Dataset'))"
      ]
    },
    {
      "cell_type": "markdown",
      "metadata": {
        "id": "D1VDnZGmMUCv"
      },
      "source": [
        "## 1) Load the images and labels"
      ]
    },
    {
      "cell_type": "code",
      "execution_count": 3,
      "metadata": {
        "id": "OovpHU2sMgiF"
      },
      "outputs": [],
      "source": [
        "import cv2\n",
        "import numpy as np\n",
        "from collections import Counter\n",
        "from sklearn import svm, metrics\n",
        "import pickle as pkl\n",
        "\n",
        "from utils import load_data, display_n_images, create_SIFT_features, cluster_descriptors, convert_des_to_hist\n"
      ]
    },
    {
      "cell_type": "code",
      "execution_count": 4,
      "metadata": {
        "id": "eHvJLyi2MUCx"
      },
      "outputs": [],
      "source": [
        "# Path to the images\n",
        "# PATH_TRAIN_IMG = GOOGLE_DRIVE_PATH + 'CW_Dataset/train/'\n",
        "# PATH_TEST_IMG = GOOGLE_DRIVE_PATH + 'CW_Dataset/test/'\n",
        "# PATH_TRAIN_LABEL = GOOGLE_DRIVE_PATH + 'CW_Dataset/labels/list_label_train.txt'\n",
        "# PATH_TEST_LABEL = GOOGLE_DRIVE_PATH + 'CW_Dataset/labels/list_label_test.txt'\n",
        "PATH_TRAIN_IMG = '../CW_Dataset/train/'\n",
        "PATH_TEST_IMG = '../CW_Dataset/test/'\n",
        "PATH_TRAIN_LABEL = '../CW_Dataset/labels/list_label_train.txt'\n",
        "PATH_TEST_LABEL = '../CW_Dataset/labels/list_label_test.txt'"
      ]
    },
    {
      "cell_type": "code",
      "execution_count": 5,
      "metadata": {
        "id": "vBy9Y38zMUCx"
      },
      "outputs": [],
      "source": [
        "X_train_list, y_train_list = load_data(PATH_TRAIN_IMG, PATH_TRAIN_LABEL, gray=True)\n",
        "X_test_list, y_test_list = load_data(PATH_TEST_IMG, PATH_TEST_LABEL, gray=True)"
      ]
    },
    {
      "cell_type": "code",
      "execution_count": 6,
      "metadata": {},
      "outputs": [],
      "source": [
        "# sample for testing\n",
        "# X_train_list = X_train_list[:1000]\n",
        "# y_train_list = y_train_list[:1000]\n",
        "# X_test_list = X_test_list[:1000]\n",
        "# y_test_list = y_test_list[:1000]\n",
        "PRINT = False"
      ]
    },
    {
      "cell_type": "code",
      "execution_count": 7,
      "metadata": {
        "colab": {
          "base_uri": "https://localhost:8080/"
        },
        "id": "9tPEY34QT0NU",
        "outputId": "4df1cc07-52f5-4be1-de4e-794b808c8c92"
      },
      "outputs": [
        {
          "data": {
            "text/plain": [
              "Counter({5: 1982, 4: 4772, 1: 1290, 6: 705, 2: 281, 3: 717, 7: 2524})"
            ]
          },
          "execution_count": 7,
          "metadata": {},
          "output_type": "execute_result"
        }
      ],
      "source": [
        "Counter(y_train_list)\n",
        "#display_n_images(X_train_list, y_train_list, 20)"
      ]
    },
    {
      "cell_type": "markdown",
      "metadata": {
        "id": "e1eiFSkYMUCy"
      },
      "source": [
        "## 2) Transform data SIFT"
      ]
    },
    {
      "cell_type": "markdown",
      "metadata": {},
      "source": [
        "#### Train Data"
      ]
    },
    {
      "cell_type": "code",
      "execution_count": 8,
      "metadata": {
        "colab": {
          "base_uri": "https://localhost:8080/",
          "height": 128
        },
        "id": "S3OqD6oFMUC0",
        "outputId": "a2b790a1-c852-4fdf-b914-be1b84b6c92f"
      },
      "outputs": [
        {
          "name": "stdout",
          "output_type": "stream",
          "text": [
            "Creating SIFT features...\n",
            "Clustering descriptors...\n",
            "Converting descriptors to histograms...\n"
          ]
        }
      ],
      "source": [
        "# Create SIFT features\n",
        "des_list_train, des_label_train = create_SIFT_features(X_train_list, y_train_list, print_example=PRINT)\n",
        "\n",
        "# Cluster descriptors\n",
        "k = len(np.unique(y_train_list)) * 10\n",
        "kmeans = cluster_descriptors(des_list_train, k)\n",
        "\n",
        "# Convert descriptors to histogram\n",
        "hist_array_train = convert_des_to_hist(des_list_train, kmeans, k, plot=PRINT)  # ! plotting takes a long time"
      ]
    },
    {
      "cell_type": "markdown",
      "metadata": {},
      "source": [
        "#### Test Data"
      ]
    },
    {
      "cell_type": "code",
      "execution_count": 9,
      "metadata": {},
      "outputs": [
        {
          "name": "stdout",
          "output_type": "stream",
          "text": [
            "Creating SIFT features...\n",
            "Converting descriptors to histograms...\n"
          ]
        }
      ],
      "source": [
        "# Create SIFT features\n",
        "des_list_test, des_label_test = create_SIFT_features(X_test_list, y_test_list, print_example=PRINT)\n",
        "\n",
        "# Convert descriptors to histogram\n",
        "hist_array_test = convert_des_to_hist(des_list_test, kmeans, k, plot=PRINT)"
      ]
    },
    {
      "cell_type": "code",
      "execution_count": 10,
      "metadata": {},
      "outputs": [],
      "source": [
        "# Save the data\n",
        "with open('../CW_Dataset/SIFT/hist_array_train.pkl', 'wb') as f:\n",
        "    pkl.dump(hist_array_train, f)\n",
        "\n",
        "with open('../CW_Dataset/SIFT/hist_array_test.pkl', 'wb') as f:\n",
        "    pkl.dump(hist_array_test, f)\n",
        "\n",
        "with open('../CW_Dataset/SIFT/hist_label_train.pkl', 'wb') as f:\n",
        "    pkl.dump(des_label_train, f)\n",
        "\n",
        "with open('../CW_Dataset/SIFT/hist_label_test.pkl', 'wb') as f:\n",
        "    pkl.dump(des_label_test, f)"
      ]
    }
  ],
  "metadata": {
    "colab": {
      "collapsed_sections": [],
      "include_colab_link": true,
      "name": "Preprocessing.ipynb",
      "provenance": []
    },
    "interpreter": {
      "hash": "f9829b8d28a4c18cc690538447b01c42fe44b4f972baf7738ef8323847842090"
    },
    "kernelspec": {
      "display_name": "Python 3.10.4 ('CV')",
      "language": "python",
      "name": "python3"
    },
    "language_info": {
      "codemirror_mode": {
        "name": "ipython",
        "version": 3
      },
      "file_extension": ".py",
      "mimetype": "text/x-python",
      "name": "python",
      "nbconvert_exporter": "python",
      "pygments_lexer": "ipython3",
      "version": "3.10.4"
    },
    "orig_nbformat": 4
  },
  "nbformat": 4,
  "nbformat_minor": 0
}
