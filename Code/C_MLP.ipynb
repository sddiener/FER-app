{
 "cells": [
  {
   "cell_type": "markdown",
   "metadata": {},
   "source": [
    "# Train MLP"
   ]
  },
  {
   "cell_type": "code",
   "execution_count": 1,
   "metadata": {},
   "outputs": [],
   "source": [
    "import cv2\n",
    "import numpy as np\n",
    "import pickle as pkl\n",
    "import matplotlib.pyplot as plt\n",
    "import pickle as pkl\n",
    "\n",
    "from sklearn import svm, metrics\n",
    "from sklearn.model_selection import GridSearchCV\n",
    "from sklearn.metrics import classification_report\n",
    "\n",
    "from sklearn.neural_network import MLPClassifier#\n",
    "from sklearn.model_selection import learning_curve"
   ]
  },
  {
   "cell_type": "markdown",
   "metadata": {},
   "source": [
    "### 1) Load Data"
   ]
  },
  {
   "cell_type": "code",
   "execution_count": 2,
   "metadata": {},
   "outputs": [],
   "source": [
    "# load SIFT data\n",
    "with open('../CW_Dataset/SIFT/hist_array_train.pkl', 'rb') as f:\n",
    "    X_train = pkl.load(f)\n",
    "\n",
    "with open('../CW_Dataset/SIFT/hist_array_test.pkl', 'rb') as f:\n",
    "    X_test = pkl.load(f)\n",
    "\n",
    "with open('../CW_Dataset/SIFT/hist_label_train.pkl', 'rb') as f:\n",
    "    y_train = pkl.load(f)\n",
    "\n",
    "with open('../CW_Dataset/SIFT/hist_label_test.pkl', 'rb') as f:\n",
    "    y_test = pkl.load(f)\n"
   ]
  },
  {
   "cell_type": "markdown",
   "metadata": {},
   "source": [
    "### 2) Gridsearch for MLP"
   ]
  },
  {
   "cell_type": "code",
   "execution_count": 3,
   "metadata": {},
   "outputs": [
    {
     "name": "stderr",
     "output_type": "stream",
     "text": [
      "c:\\Users\\sdien\\Anaconda3\\envs\\NC\\lib\\site-packages\\sklearn\\neural_network\\_multilayer_perceptron.py:692: ConvergenceWarning: Stochastic Optimizer: Maximum iterations (2000) reached and the optimization hasn't converged yet.\n",
      "  warnings.warn(\n",
      "c:\\Users\\sdien\\Anaconda3\\envs\\NC\\lib\\site-packages\\sklearn\\neural_network\\_multilayer_perceptron.py:692: ConvergenceWarning: Stochastic Optimizer: Maximum iterations (2000) reached and the optimization hasn't converged yet.\n",
      "  warnings.warn(\n",
      "c:\\Users\\sdien\\Anaconda3\\envs\\NC\\lib\\site-packages\\sklearn\\neural_network\\_multilayer_perceptron.py:692: ConvergenceWarning: Stochastic Optimizer: Maximum iterations (2000) reached and the optimization hasn't converged yet.\n",
      "  warnings.warn(\n",
      "c:\\Users\\sdien\\Anaconda3\\envs\\NC\\lib\\site-packages\\sklearn\\neural_network\\_multilayer_perceptron.py:692: ConvergenceWarning: Stochastic Optimizer: Maximum iterations (2000) reached and the optimization hasn't converged yet.\n",
      "  warnings.warn(\n",
      "c:\\Users\\sdien\\Anaconda3\\envs\\NC\\lib\\site-packages\\sklearn\\neural_network\\_multilayer_perceptron.py:692: ConvergenceWarning: Stochastic Optimizer: Maximum iterations (2000) reached and the optimization hasn't converged yet.\n",
      "  warnings.warn(\n",
      "c:\\Users\\sdien\\Anaconda3\\envs\\NC\\lib\\site-packages\\sklearn\\neural_network\\_multilayer_perceptron.py:692: ConvergenceWarning: Stochastic Optimizer: Maximum iterations (2000) reached and the optimization hasn't converged yet.\n",
      "  warnings.warn(\n",
      "c:\\Users\\sdien\\Anaconda3\\envs\\NC\\lib\\site-packages\\sklearn\\neural_network\\_multilayer_perceptron.py:692: ConvergenceWarning: Stochastic Optimizer: Maximum iterations (2000) reached and the optimization hasn't converged yet.\n",
      "  warnings.warn(\n",
      "c:\\Users\\sdien\\Anaconda3\\envs\\NC\\lib\\site-packages\\sklearn\\neural_network\\_multilayer_perceptron.py:692: ConvergenceWarning: Stochastic Optimizer: Maximum iterations (2000) reached and the optimization hasn't converged yet.\n",
      "  warnings.warn(\n",
      "c:\\Users\\sdien\\Anaconda3\\envs\\NC\\lib\\site-packages\\sklearn\\neural_network\\_multilayer_perceptron.py:692: ConvergenceWarning: Stochastic Optimizer: Maximum iterations (2000) reached and the optimization hasn't converged yet.\n",
      "  warnings.warn(\n"
     ]
    },
    {
     "name": "stdout",
     "output_type": "stream",
     "text": [
      "Best parameters: {'hidden_layer_sizes': (32, 16), 'learning_rate_init': 0.0001}\n"
     ]
    }
   ],
   "source": [
    "# Create gridsearch for MLP\n",
    "param_grid = {\n",
    "    'hidden_layer_sizes': [(16,8), (32,16), (64,16), (128,32)],\n",
    "    'learning_rate_init': [0.0001, 0.001]\n",
    "}\n",
    "\n",
    "MLP = MLPClassifier(\n",
    "    solver='adam',\n",
    "    alpha=1e-5,\n",
    "    learning_rate='adaptive',\n",
    "    max_iter=3000,\n",
    "    early_stopping=True,\n",
    "    n_iter_no_change=100,\n",
    "    )\n",
    "\n",
    "grid = GridSearchCV(MLP, param_grid, cv=3, scoring='f1_micro', verbose=2, n_jobs=-1)\n",
    "grid.fit(X_train, y_train)\n",
    "\n",
    "# print best parameters\n",
    "print('Best parameters: {}'.format(grid.best_params_))"
   ]
  },
  {
   "cell_type": "code",
   "execution_count": 7,
   "metadata": {},
   "outputs": [],
   "source": [
    "#clf = grid.best_estimator_"
   ]
  },
  {
   "cell_type": "code",
   "execution_count": 23,
   "metadata": {},
   "outputs": [
    {
     "data": {
      "text/plain": [
       "MLPClassifier(alpha=1e-05, early_stopping=True, hidden_layer_sizes=(32, 16),\n",
       "              learning_rate='adaptive', learning_rate_init=0.0001,\n",
       "              max_iter=3000, n_iter_no_change=100, validation_fraction=0.2)"
      ]
     },
     "execution_count": 23,
     "metadata": {},
     "output_type": "execute_result"
    }
   ],
   "source": [
    "# retrain model with best parameters\n",
    "clf = MLPClassifier(\n",
    "    solver='adam',\n",
    "    alpha=1e-5,\n",
    "    learning_rate='adaptive',\n",
    "    max_iter=3000,\n",
    "    early_stopping=True,\n",
    "    n_iter_no_change=100,\n",
    "    validation_fraction=0.2,\n",
    "    hidden_layer_sizes=grid.best_params_['hidden_layer_sizes'],\n",
    "    learning_rate_init=grid.best_params_['learning_rate_init'],\n",
    ")\n",
    "\n",
    "clf.fit(X_train, y_train)"
   ]
  },
  {
   "cell_type": "code",
   "execution_count": 24,
   "metadata": {},
   "outputs": [
    {
     "data": {
      "image/png": "[encoded data removed]",
      "text/plain": [
       "<Figure size 432x288 with 2 Axes>"
      ]
     },
     "metadata": {
      "needs_background": "light"
     },
     "output_type": "display_data"
    }
   ],
   "source": [
    "fig, ax1 = plt.subplots()\n",
    "\n",
    "ax2 = ax1.twinx()\n",
    "ax1.plot(clf.loss_curve_, 'g-')\n",
    "ax2.plot(clf.validation_scores_, 'b-')\n",
    "\n",
    "ax1.set_xlabel('Epochs')\n",
    "ax1.set_ylabel('Loss', color='g')\n",
    "ax2.set_ylabel('Validation Micro F1', color='b')\n",
    "\n",
    "plt.show()"
   ]
  },
  {
   "cell_type": "code",
   "execution_count": 25,
   "metadata": {},
   "outputs": [],
   "source": [
    "# save best model\n",
    "with open('../Models/sift-MLP.pkl', 'wb') as f:\n",
    "    pkl.dump(grid.best_estimator_, f)"
   ]
  },
  {
   "cell_type": "markdown",
   "metadata": {},
   "source": [
    "### 3) Test MLP"
   ]
  },
  {
   "cell_type": "code",
   "execution_count": 26,
   "metadata": {},
   "outputs": [],
   "source": [
    "# load best model\n",
    "with open('../Models/sift-MLP.pkl', 'rb') as f:\n",
    "    clf = pkl.load(f)"
   ]
  },
  {
   "cell_type": "code",
   "execution_count": 27,
   "metadata": {},
   "outputs": [
    {
     "name": "stdout",
     "output_type": "stream",
     "text": [
      "              precision    recall  f1-score   support\n",
      "\n",
      "           1       0.36      0.15      0.21       329\n",
      "           2       0.00      0.00      0.00        74\n",
      "           3       0.00      0.00      0.00       160\n",
      "           4       0.44      0.82      0.57      1185\n",
      "           5       0.29      0.09      0.14       478\n",
      "           6       0.00      0.00      0.00       162\n",
      "           7       0.34      0.28      0.31       680\n",
      "\n",
      "    accuracy                           0.41      3068\n",
      "   macro avg       0.20      0.19      0.18      3068\n",
      "weighted avg       0.33      0.41      0.33      3068\n",
      "\n"
     ]
    },
    {
     "name": "stderr",
     "output_type": "stream",
     "text": [
      "c:\\Users\\sdien\\Anaconda3\\envs\\NC\\lib\\site-packages\\sklearn\\metrics\\_classification.py:1318: UndefinedMetricWarning: Precision and F-score are ill-defined and being set to 0.0 in labels with no predicted samples. Use `zero_division` parameter to control this behavior.\n",
      "  _warn_prf(average, modifier, msg_start, len(result))\n",
      "c:\\Users\\sdien\\Anaconda3\\envs\\NC\\lib\\site-packages\\sklearn\\metrics\\_classification.py:1318: UndefinedMetricWarning: Precision and F-score are ill-defined and being set to 0.0 in labels with no predicted samples. Use `zero_division` parameter to control this behavior.\n",
      "  _warn_prf(average, modifier, msg_start, len(result))\n",
      "c:\\Users\\sdien\\Anaconda3\\envs\\NC\\lib\\site-packages\\sklearn\\metrics\\_classification.py:1318: UndefinedMetricWarning: Precision and F-score are ill-defined and being set to 0.0 in labels with no predicted samples. Use `zero_division` parameter to control this behavior.\n",
      "  _warn_prf(average, modifier, msg_start, len(result))\n"
     ]
    }
   ],
   "source": [
    "# evaluate model\n",
    "y_pred = clf.predict(X_test)\n",
    "print(classification_report(y_test, y_pred))"
   ]
  },
  {
   "cell_type": "code",
   "execution_count": 28,
   "metadata": {},
   "outputs": [
    {
     "name": "stdout",
     "output_type": "stream",
     "text": [
      "Confusion matrix: \n",
      "[[ 48   0   0 212  17   0  52]\n",
      " [  0   0   0  56   4   0  14]\n",
      " [  3   0   0 114   8   0  35]\n",
      " [ 30   0   0 977  35   0 143]\n",
      " [ 11   0   0 321  43   0 103]\n",
      " [  5   0   0 112  12   0  33]\n",
      " [ 36   0   0 424  27   0 193]]\n"
     ]
    }
   ],
   "source": [
    "# create confusion matrix\n",
    "confusion_matrix = metrics.confusion_matrix(y_test, y_pred)\n",
    "print('Confusion matrix: \\n{}'.format(confusion_matrix))\n"
   ]
  },
  {
   "cell_type": "code",
   "execution_count": null,
   "metadata": {},
   "outputs": [],
   "source": []
  }
 ],
 "metadata": {
  "interpreter": {
   "hash": "3d4042eb24c5fceb6f1fcd19d2c9af68e804a6c05b318e9dae7bac44519e7c43"
  },
  "kernelspec": {
   "display_name": "Python 3.9.7 ('NC')",
   "language": "python",
   "name": "python3"
  },
  "language_info": {
   "codemirror_mode": {
    "name": "ipython",
    "version": 3
   },
   "file_extension": ".py",
   "mimetype": "text/x-python",
   "name": "python",
   "nbconvert_exporter": "python",
   "pygments_lexer": "ipython3",
   "version": "3.9.7"
  },
  "orig_nbformat": 4
 },
 "nbformat": 4,
 "nbformat_minor": 2
}
